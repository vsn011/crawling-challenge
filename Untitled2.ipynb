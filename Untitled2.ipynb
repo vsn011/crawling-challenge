{
 "cells": [
  {
   "cell_type": "code",
   "execution_count": 11,
   "id": "bf219f90",
   "metadata": {},
   "outputs": [],
   "source": [
    "import pandas as pd\n",
    "import json\n",
    "import glob\n",
    "import os\n",
    "from itertools import product"
   ]
  },
  {
   "cell_type": "code",
   "execution_count": 2,
   "id": "01899d70",
   "metadata": {},
   "outputs": [],
   "source": [
    "path = 'C:\\\\Users\\\\38164\\\\Downloads\\\\jsonl\\\\'\n",
    "key_columns = ['living_space','floor', 'rooms', 'zip_code', 'sale_type', 'price']"
   ]
  },
  {
   "cell_type": "code",
   "execution_count": 49,
   "id": "047d6b1f",
   "metadata": {},
   "outputs": [],
   "source": [
    "def read_jsonl(path):\n",
    "    df_ = pd.DataFrame(index=None)\n",
    "    path=path\n",
    "    extension = 'jsonl'\n",
    "    os.chdir(path)\n",
    "    files = glob.glob('*.{}'.format(extension))\n",
    "    print(\"files to load: \" + str(len(files)))\n",
    "    \n",
    "\n",
    "    for file in files:  \n",
    "        appartments=[]\n",
    "        with open(file, 'r') as json_file:\n",
    "            json_list_home = list(json_file)\n",
    "            print(\"loading file: \" + file)\n",
    "        for json_str in json_list_home:\n",
    "                result = json.loads(json_str)\n",
    "                appartments.append(result)\n",
    "        df = pd.DataFrame(appartments)\n",
    "        df['platform'] = file.split('.')[0]\n",
    "        frames = [df_, df]\n",
    "        df_ = pd.concat(frames)\n",
    "    print('rows loaded: ' + str(len(df_)))\n",
    "    \n",
    "    return df_"
   ]
  },
  {
   "cell_type": "code",
   "execution_count": 16,
   "id": "d8e90c95",
   "metadata": {},
   "outputs": [],
   "source": [
    "def df_to_list_of_dict(df):\n",
    "    df=df\n",
    "    list_of_lists = []\n",
    "    for index, row in df.iterrows():\n",
    "        small_list = []\n",
    "        row = row.to_dict()\n",
    "        small_list.append(row)\n",
    "        list_of_lists.append(small_list)\n",
    "    \n",
    "    return list_of_lists"
   ]
  },
  {
   "cell_type": "code",
   "execution_count": 50,
   "id": "6e139df4",
   "metadata": {},
   "outputs": [
    {
     "name": "stdout",
     "output_type": "stream",
     "text": [
      "files to load: 2\n",
      "loading file: homegate.jsonl\n",
      "loading file: immoscout24.jsonl\n",
      "final df lenght is: 147458\n"
     ]
    }
   ],
   "source": [
    "df = read_jsonl(path)"
   ]
  },
  {
   "cell_type": "code",
   "execution_count": 77,
   "id": "7d221971",
   "metadata": {},
   "outputs": [],
   "source": [
    "def _get_df_with_duplicates(path, key_columns):\n",
    "    \n",
    "    path=path\n",
    "    key_columns=key_columns\n",
    "    df = read_jsonl(path)\n",
    "    \n",
    "    #here we extract duplicated listings based on the given columns into a separate dataframe; \n",
    "    #all duplicates are stacked on top of eachother without duplicate pairs\n",
    "    duplicate_filter = df.duplicated(subset=key_columns, keep=False)\n",
    "    df_duplicates = df[duplicate_filter]\n",
    "    \n",
    "    #in order to get duplicate pairs we inner join duplicate subset with the starting dataframe\n",
    "    #by doing so we don't just join duplicate listing with their coresponding duplicates but also to themselves, that is why we need to filter them out \n",
    "    duplicates = df.merge(df_duplicates, how = 'inner', on=key_columns, indicator=False)\n",
    "    \n",
    "    \n",
    "    #next we prepare the dataframe for the requested file format\n",
    "    \n",
    "    df_final=duplicates_final[['platform_x', 'id_x', 'platform_y', 'id_y']]\n",
    "    df_final=df_final[df_final['id_x'] != df_final['id_y']]\n",
    "    \n",
    "    return df_final"
   ]
  },
  {
   "cell_type": "code",
   "execution_count": 81,
   "id": "8ef2bbc9",
   "metadata": {},
   "outputs": [],
   "source": [
    "def _get_list_of_duplicates_from_df(df):\n",
    "    df=df\n",
    "    df1=df[['platform_x','id_x']]\n",
    "    df2=df[['platform_y','id_y']]\n",
    "    df1.rename(columns={'platform_x': 'platform', 'id_x':'id'}, inplace=True)\n",
    "    df2.rename(columns={'platform_y': 'platform', 'id_y':'id'}, inplace=True)\n",
    "    \n",
    "    list1=df_to_list_of_dict(df1)\n",
    "    list2=df_to_list_of_dict(df2)\n",
    "\n",
    "    final_list = []\n",
    "    for (a, b) in zip(list1, list2):\n",
    "        l =  [a[0],b[0]]\n",
    "        final_list.append(l)\n",
    "    \n",
    "    return final_list"
   ]
  },
  {
   "cell_type": "code",
   "execution_count": null,
   "id": "5725d2c4",
   "metadata": {},
   "outputs": [],
   "source": []
  }
 ],
 "metadata": {
  "kernelspec": {
   "display_name": "Python 3 (ipykernel)",
   "language": "python",
   "name": "python3"
  },
  "language_info": {
   "codemirror_mode": {
    "name": "ipython",
    "version": 3
   },
   "file_extension": ".py",
   "mimetype": "text/x-python",
   "name": "python",
   "nbconvert_exporter": "python",
   "pygments_lexer": "ipython3",
   "version": "3.9.12"
  }
 },
 "nbformat": 4,
 "nbformat_minor": 5
}
